{
 "cells": [
  {
   "cell_type": "markdown",
   "metadata": {
    "id": "AEuQdGzDt6L7"
   },
   "source": [
    "# PART 1: Python Primer\n",
    "\n"
   ]
  },
  {
   "cell_type": "markdown",
   "metadata": {
    "id": "UyVi8cHaZNmB"
   },
   "source": [
    "## Variable definition, manipulation"
   ]
  },
  {
   "cell_type": "markdown",
   "metadata": {
    "id": "43QOuePcZNmE"
   },
   "source": [
    "## String manipulation\n",
    "\n",
    "For example, let us consider DNA, taking the opportunity to also start using some elementary aspects of Python. Each chain of DNA nucleotides is called a __DNA strand__, and we refer to the four possible DNA nucleotides using the symbols `A` `G` `T` and `C` each corresponding to a specific well-defined arrangement of atoms. In Python, we can jointly represent the elements of a DNA sequence with a symbol, say `s`, which represents the a string of characters:"
   ]
  },
  {
   "cell_type": "code",
   "execution_count": null,
   "metadata": {
    "colab": {
     "base_uri": "https://localhost:8080/"
    },
    "id": "VtawVk71ZNmV",
    "outputId": "f24fff10-867d-4195-fa0c-8b42e9245875"
   },
   "outputs": [
    {
     "name": "stdout",
     "output_type": "stream",
     "text": [
      "The length of s is 8\n",
      "s is ACAGTAGC\n"
     ]
    }
   ],
   "source": [
    "s = 'ACAGTAGC'\n",
    "print(\"The length of s is\", len(s))\n",
    "print(\"s is\", s)"
   ]
  },
  {
   "cell_type": "markdown",
   "metadata": {
    "id": "Ktoq3tStZNmb"
   },
   "source": [
    "Note that we have not assigned any numerical values to `A`, `T`, `C` and `G`, but we simply treat them as four distinct abstract \"characters.\" The array \"s\", being an ordered succession of characters, is said to be a \"character string,\" We say that every character of the string s is drawn from an alphabet, which, in this case, is the set `{A, G, T, C}` containing the four \"letters\" `A`, `G`, `T`, `C`."
   ]
  },
  {
   "cell_type": "markdown",
   "metadata": {
    "id": "qEd9IxfPZNml"
   },
   "source": [
    "To recap: To each DNA chain consisting of N nucleotides there corresponds a character string consisting of the elements `s[n]`, where `n = 0, 1, 2, 3, ... , N-1`, and each `s[n]` takes values from the set `{A, G, T, C}`. So, in our case, Python's response to, say, `s[3]` is:"
   ]
  },
  {
   "cell_type": "code",
   "execution_count": null,
   "metadata": {
    "colab": {
     "base_uri": "https://localhost:8080/",
     "height": 35
    },
    "id": "dlOo-Dg5ZNmo",
    "outputId": "6a70509c-325f-4f64-c8a2-cd95a8a74d4f"
   },
   "outputs": [
    {
     "data": {
      "application/vnd.google.colaboratory.intrinsic+json": {
       "type": "string"
      },
      "text/plain": [
       "'G'"
      ]
     },
     "execution_count": 3,
     "metadata": {},
     "output_type": "execute_result"
    }
   ],
   "source": [
    "s[3]"
   ]
  },
  {
   "cell_type": "markdown",
   "metadata": {
    "id": "SffcT2G6ZNmu"
   },
   "source": [
    "indicating that the fourth element of the array s is a `G`, and the response to `len(s)` , which returns the length of the sequence, is:"
   ]
  },
  {
   "cell_type": "code",
   "execution_count": null,
   "metadata": {
    "colab": {
     "base_uri": "https://localhost:8080/"
    },
    "id": "JTWDVlcOZNmx",
    "outputId": "1469a287-ca40-47b0-a350-56e2b5426365"
   },
   "outputs": [
    {
     "data": {
      "text/plain": [
       "8"
      ]
     },
     "execution_count": 4,
     "metadata": {},
     "output_type": "execute_result"
    }
   ],
   "source": [
    "len(s)"
   ]
  },
  {
   "cell_type": "markdown",
   "metadata": {
    "id": "ye6yFMJkZNm3"
   },
   "source": [
    "indicating that the number of nucleotides in the DNA strand, denoted simply by `len(s)`, is, in our case, `N = 8`. In reality, the value of N for DNA sequences stored in computers can be a very large number."
   ]
  },
  {
   "cell_type": "markdown",
   "metadata": {
    "id": "pIqdQuMqZNm4"
   },
   "source": [
    "A substring of a string `s` is defined as another string formed by consecutive characters of `s`, in the same order as they appear on `s`. For example, `CAG` is a substring of the string `s = 'ACAGTAGC'`. Python has a useful function, called `s.find(s2)`, which returns the starting indices (locations) of any occurrences of the shorter of the two strings (`s` and `s2`) in the longer one. So, we can verify that `CAG` is a substring of `s`, by asking Python:"
   ]
  },
  {
   "cell_type": "code",
   "execution_count": null,
   "metadata": {
    "colab": {
     "base_uri": "https://localhost:8080/"
    },
    "id": "MyjiCoZQZNm5",
    "outputId": "44197975-e228-4cd1-e860-83816dc164f1"
   },
   "outputs": [
    {
     "name": "stdout",
     "output_type": "stream",
     "text": [
      "1 CAG\n"
     ]
    }
   ],
   "source": [
    "s2 = 'CAG'\n",
    "\n",
    "s_idx = s.find(s2)\n",
    "print(s_idx,s[s_idx:s_idx+len(s2)])"
   ]
  },
  {
   "cell_type": "code",
   "execution_count": null,
   "metadata": {
    "colab": {
     "base_uri": "https://localhost:8080/"
    },
    "id": "NO1RSSzLpVcu",
    "outputId": "6e95ef0e-0c0a-47ec-ad95-e4f88f0f86e6"
   },
   "outputs": [
    {
     "data": {
      "text/plain": [
       "1"
      ]
     },
     "execution_count": 6,
     "metadata": {},
     "output_type": "execute_result"
    }
   ],
   "source": [
    "s_idx"
   ]
  },
  {
   "cell_type": "markdown",
   "metadata": {
    "id": "eCrT6qP4ZNm_"
   },
   "source": [
    "This response tells us that `CAG` is indeed a substring of s starting from its second location `s[1]`. If we ask: `s.find('CCC')`, the answer will be: `-1` indicating that the set of valid answers is “empty,” i.e., there is no such substring in the string `s`. "
   ]
  },
  {
   "cell_type": "code",
   "execution_count": null,
   "metadata": {
    "colab": {
     "base_uri": "https://localhost:8080/"
    },
    "id": "Y-MKwHgLZNnB",
    "outputId": "5f67bb78-5080-4dae-90aa-2fe5e85d1c9c"
   },
   "outputs": [
    {
     "name": "stdout",
     "output_type": "stream",
     "text": [
      "-1\n"
     ]
    }
   ],
   "source": [
    "print(s.find('CCC'))"
   ]
  },
  {
   "cell_type": "markdown",
   "metadata": {
    "id": "SWJCvbvvZNnF"
   },
   "source": [
    "If we ask: `s.find('AG')`, the answer will be 2, which is the first occurrence of the substring. To find all occurrence of `AG` (at index 2 and 5), you will have to iteratively reduce your search range by excluding the substrings that have already been found:"
   ]
  },
  {
   "cell_type": "code",
   "execution_count": null,
   "metadata": {
    "colab": {
     "base_uri": "https://localhost:8080/"
    },
    "id": "pUJ4WZ0JZNnI",
    "outputId": "fccddc05-b0e5-472d-b088-cbe2dd8bb80e"
   },
   "outputs": [
    {
     "name": "stdout",
     "output_type": "stream",
     "text": [
      "s2 found at 2\n",
      "s2 found at 5\n",
      "2\n"
     ]
    }
   ],
   "source": [
    "index = 0\n",
    "# A list to store all found indices of `AG`\n",
    "ind_arr = []\n",
    "s2 = 'AG'\n",
    "while index < len(s):\n",
    "    index = s.find(s2, index)\n",
    "    # if not found, exit\n",
    "    if index == -1:\n",
    "        break\n",
    "        \n",
    "    print('s2 found at', index)\n",
    "    ind_arr.append(index)\n",
    "    index += len(s2) # +2 because len('AG') == 2\n",
    "\n",
    "print(len(ind_arr))"
   ]
  },
  {
   "cell_type": "markdown",
   "metadata": {
    "id": "XUdu9ixqZNnN"
   },
   "source": [
    "Another way to do this is to utilize the regular expression module in Python by importing the `re` module for regular expression:"
   ]
  },
  {
   "cell_type": "code",
   "execution_count": null,
   "metadata": {
    "colab": {
     "base_uri": "https://localhost:8080/"
    },
    "id": "sVzUZKMJZNnO",
    "outputId": "6dde594a-f178-483a-e0d8-89f4c87770c8"
   },
   "outputs": [
    {
     "name": "stdout",
     "output_type": "stream",
     "text": [
      "Found s2 at index 2\n",
      "Found s2 at index 5\n"
     ]
    }
   ],
   "source": [
    "import re\n",
    "s2 = 'AG'\n",
    "# A list to store all found indices of `AG`\n",
    "ind_arr = []\n",
    "iterator = re.finditer(s2, s)\n",
    "\n",
    "for idx in iterator:\n",
    "    ind_arr.append(idx.start())\n",
    "    print('Found s2 at index', idx.start())\n"
   ]
  },
  {
   "cell_type": "markdown",
   "metadata": {
    "id": "FWEckoZjZNnU"
   },
   "source": [
    "The `re.finditer` function does something similar to our `while` loop above, it gives you an `callable_iterator` object for you to iterate through all occurrence of the found substring."
   ]
  },
  {
   "cell_type": "markdown",
   "metadata": {
    "id": "5Ip9ngLrZNnU"
   },
   "source": [
    "Note that each string of length N has N-L+1 substrings of length L, the first such substring\n",
    "occupying locations (1, 2, ... , L), and the last occupying locations (N-L+1, N-L+2, ... , N)."
   ]
  },
  {
   "cell_type": "markdown",
   "metadata": {
    "id": "a6nJXquVjsiY"
   },
   "source": [
    "## Matrix manipulation\n",
    "\n",
    "Another data type we would frequently encounter is the gene expression data. The gene expression data is the quantification of the different RNA expression levels. For example we can represent the expression levels of different genes of a subject as an array:\n",
    "\n"
   ]
  },
  {
   "cell_type": "code",
   "execution_count": null,
   "metadata": {
    "colab": {
     "base_uri": "https://localhost:8080/"
    },
    "id": "FaFZgkekyJSh",
    "outputId": "2be64009-a81a-4603-ed04-b409ebee564b"
   },
   "outputs": [
    {
     "name": "stdout",
     "output_type": "stream",
     "text": [
      "The expression levels of the subject is  [ 1.23  4.56  7.89 10.11 12.13]\n"
     ]
    }
   ],
   "source": [
    "import numpy as np\n",
    "\n",
    "exp = np.array([1.23, 4.56, 7.89, 10.11, 12.13])\n",
    "\n",
    "print(\"The expression levels of the subject is \", exp)"
   ]
  },
  {
   "cell_type": "markdown",
   "metadata": {
    "id": "6eRJ6EeIydRG"
   },
   "source": [
    "Here we use the `numpy` library (https://numpy.org/) to perform array manipulation. It is one of the most essential library in Python. Here each element in the array records the expression level of each gene. The first gene is 1.23, second gene 4.56, _etc._.\n",
    "\n",
    "Usually, we would look at gene expression levels of multiple subjects together, which can be represented as a 2-dimensional array :"
   ]
  },
  {
   "cell_type": "code",
   "execution_count": null,
   "metadata": {
    "colab": {
     "base_uri": "https://localhost:8080/"
    },
    "id": "YyBLB_MSzorl",
    "outputId": "2a1d60b6-1431-46f5-eca8-7a285a904bfd"
   },
   "outputs": [
    {
     "name": "stdout",
     "output_type": "stream",
     "text": [
      "[[ 1.23  4.56  7.89 10.11 12.13]\n",
      " [ 2.13  5.46  8.79 11.1  13.12]\n",
      " [ 3.12  6.45  9.78 10.11 12.13]]\n"
     ]
    }
   ],
   "source": [
    "exp_set = np.array([\n",
    "    exp,\n",
    "    [2.13, 5.46, 8.79, 11.10, 13.12],\n",
    "    [3.12, 6.45, 9.78, 10.11, 12.13]\n",
    "])\n",
    "\n",
    "print(exp_set)"
   ]
  },
  {
   "cell_type": "markdown",
   "metadata": {
    "id": "l8ckUvHYnfeQ"
   },
   "source": [
    "The first row of the array is the expression levels of genes of subject 1, while the second row is that of subject 2, third row subject 3.\n",
    "\n",
    "Having a gene expression matrix allows us to perform some simple statistics. For example, if we want to know the mean expression values of gene 3 across all three patients:"
   ]
  },
  {
   "cell_type": "code",
   "execution_count": null,
   "metadata": {
    "colab": {
     "base_uri": "https://localhost:8080/"
    },
    "id": "bvAhM32i0sb5",
    "outputId": "d35ad5a3-da63-4d1d-fa36-ccb6b162b507"
   },
   "outputs": [
    {
     "name": "stdout",
     "output_type": "stream",
     "text": [
      "The mean expression value of gene 3 across three patients is:  8.82\n"
     ]
    }
   ],
   "source": [
    "print(\"The mean expression value of gene 3 across three patients is: \", exp_set[:, 2].mean())"
   ]
  },
  {
   "cell_type": "markdown",
   "metadata": {
    "id": "ryUQvY4E1LVb"
   },
   "source": [
    "`numpy` is very powerful in terms of row-wise or column-wise calculating compared with normal Python loop. For example, if we want to calculate the variance of all genes, as can simply do"
   ]
  },
  {
   "cell_type": "code",
   "execution_count": null,
   "metadata": {
    "colab": {
     "base_uri": "https://localhost:8080/"
    },
    "id": "RoQDCPJy1gws",
    "outputId": "3d49ec6e-4f0b-447d-b4a2-85b1761ce667"
   },
   "outputs": [
    {
     "name": "stdout",
     "output_type": "stream",
     "text": [
      "Variance of genes are:  [0.5958 0.5958 0.5958 0.2178 0.2178]\n"
     ]
    }
   ],
   "source": [
    "print(\"Variance of genes are: \", exp_set.var(axis=0))"
   ]
  },
  {
   "cell_type": "code",
   "execution_count": null,
   "metadata": {
    "colab": {
     "base_uri": "https://localhost:8080/"
    },
    "id": "bhNw40J3B_d2",
    "outputId": "9d2aec81-6bbe-4968-f2e4-27c398aaa24c"
   },
   "outputs": [
    {
     "name": "stdout",
     "output_type": "stream",
     "text": [
      "Variance of samples are:  [15.171664 15.457    10.077736]\n"
     ]
    }
   ],
   "source": [
    "print(\"Variance of samples are: \", exp_set.var(axis=1))"
   ]
  },
  {
   "cell_type": "markdown",
   "metadata": {
    "id": "cBq4SHOR1uWB"
   },
   "source": [
    "To compare the calculation time using `numpy` function versus Python loop:"
   ]
  },
  {
   "cell_type": "code",
   "execution_count": null,
   "metadata": {
    "colab": {
     "base_uri": "https://localhost:8080/"
    },
    "id": "bLxUlCsd17BW",
    "outputId": "1a04f7a2-5101-4100-b565-5682bdc49c3b"
   },
   "outputs": [
    {
     "name": "stdout",
     "output_type": "stream",
     "text": [
      "36.7 µs ± 6.78 µs per loop (mean ± std. dev. of 7 runs, 10000 loops each)\n"
     ]
    }
   ],
   "source": [
    "%%timeit\n",
    "exp_set.var(axis=0)"
   ]
  },
  {
   "cell_type": "code",
   "execution_count": null,
   "metadata": {
    "colab": {
     "base_uri": "https://localhost:8080/"
    },
    "id": "KSqIyoqQ1IPR",
    "outputId": "626c40b8-58e7-4799-ace7-d22c6e6c9a66"
   },
   "outputs": [
    {
     "name": "stdout",
     "output_type": "stream",
     "text": [
      "93.3 µs ± 742 ns per loop (mean ± std. dev. of 7 runs, 10000 loops each)\n"
     ]
    }
   ],
   "source": [
    "%%timeit\n",
    "[g.var() for g in exp_set.T]"
   ]
  },
  {
   "cell_type": "markdown",
   "metadata": {
    "id": "Qc5kmQs42kKp"
   },
   "source": [
    "We can see the built-in `numpy` calculation is at least 4 or 5 times faster than for loop. When we are dealing with large data set in the class, it is important to look for existing built-in functions provided by libraries than writing your own for loop."
   ]
  },
  {
   "cell_type": "markdown",
   "metadata": {
    "id": "ULGzgsNxuHS_"
   },
   "source": [
    "# PART 2: Pairwise Sequence Alignment Using Dynamic Programming"
   ]
  },
  {
   "cell_type": "markdown",
   "metadata": {
    "id": "flx9QCvkzdxp"
   },
   "source": [
    "## Pairwise Biomolecular Sequence Alignment"
   ]
  },
  {
   "cell_type": "markdown",
   "metadata": {
    "id": "InOdQkrbzdxs"
   },
   "source": [
    "For now, we only want to consider the problem of alignment of homologous sequences from a quantitative viewpoint, and to understand precisely the method of `alignment` shown below.\n",
    "\n",
    "The problem is one of _optimization_: Out of the numerous ways, in which two sequences can be put one above the other, find the one that maximizes some score. If we allow for insertions and deletions in large sequences, then the number of such possible ways is astronomically large, and so the \"exhaustive search\" way of solving the problem cannot work. Let us see how a method called __\"dynamic programming\"__ can come to the rescue.\n",
    "\n",
    "<pre>\n",
    "ATTC<font color=\"red\"><b>A</b></font>GGTCAA<font color=\"red\"><b>G</b></font>GC<font color=\"red\"><b>-</b></font>TTAGCAGTCTAAA<font color=\"red\"><b>C</b></font>GGATC<font color=\"red\"><b>G</b></font>\n",
    "ATTC<font color=\"red\"><b>-</b></font>GGTCAA<font color=\"red\"><b>T</b></font>GC<font color=\"red\"><b>A</b></font>TTAGCAGTCTAAA<font color=\"red\"><b>-</b></font>GGATC<font color=\"red\"><b>-</b></font>\n",
    "</pre>"
   ]
  },
  {
   "cell_type": "code",
   "execution_count": null,
   "metadata": {
    "id": "62SFhbmszdxu"
   },
   "outputs": [],
   "source": [
    "import numpy as np\n",
    "\n",
    "def global_alignment(s1, s2, match_score=1, mismatch_score=-1, gap_score=-2):\n",
    "    \"\"\"\n",
    "    This function performs global alignment of two character strings x and y\n",
    "    \n",
    "    Arguments\n",
    "    ---------\n",
    "    s1 : str\n",
    "        First character string to be aligned\n",
    "    s2 : str\n",
    "        Second character string to be aligned\n",
    "    match_score : numeric\n",
    "        Score when the characters match\n",
    "    mismatch_score : numeric\n",
    "        Score when the characters mismatch\n",
    "    gap_score : numeric\n",
    "        Score when an indel is created\n",
    "\n",
    "    Returns\n",
    "    -------\n",
    "    xalign : str\n",
    "        Aligned first string\n",
    "    yalign : str\n",
    "        Aligned second string\n",
    "    F : np.ndarray\n",
    "        Score matrix\n",
    "    I : np.ndarray\n",
    "        Alignment operation matrix for backtrace. 'd' for diagonal; 'v' for\n",
    "        vertical; 'h' for horizontal\n",
    "    \"\"\"\n",
    "    M = len(s1)\n",
    "    N = len(s2)\n",
    "\n",
    "    F = np.zeros((M + 1, N + 1), dtype=np.int16)\n",
    "    I = np.empty_like(F, dtype=str)\n",
    "    # Initial Conditions for matrices F and I:\n",
    "    # First column\n",
    "    F[:, 0] = gap_score * np.arange(M + 1)\n",
    "    I[1:, 0] = \"v\"\n",
    "    # First row\n",
    "    F[0, :] = gap_score * np.arange(N + 1)\n",
    "    I[0, 1:] = \"h\"\n",
    "    # compare sequenses x and y, find maximum-score matrix F\n",
    "    # and the straight-line segments for traceback of optimal path in matrix I\n",
    "    for i in range(1, M + 1):\n",
    "        for j in range(1, N + 1):\n",
    "            if s1[i - 1] == s2[j - 1]:\n",
    "                w = match_score\n",
    "            else:\n",
    "                w = mismatch_score\n",
    "\n",
    "            options = [F[i - 1,j - 1] + w, # diagonal\n",
    "                       F[i, j - 1] + gap_score, # horizontal\n",
    "                       F[i - 1, j] + gap_score] # vertical\n",
    "            F[i, j] = np.max(options)\n",
    "            I[i, j] = ['d', 'h', 'v'][np.argmax(options)]\n",
    "\n",
    "    #traceback:\n",
    "    s1rev = ''\n",
    "    s2rev = ''\n",
    "    k = 0\n",
    "    i = M\n",
    "    j = N\n",
    "    while I[i, j] != \"\":    #the process will stop at i=j=0 because I[0,0] = \"\"\n",
    "        k = k + 1\n",
    "        if I[i, j] == \"d\":\n",
    "            i = i - 1\n",
    "            j = j - 1\n",
    "            s1rev += s1[i]\n",
    "            s2rev += s2[j]\n",
    "        elif I[i, j] == 'h':\n",
    "            j = j - 1\n",
    "            s1rev += '-'\n",
    "            s2rev += s2[j]\n",
    "        else:\n",
    "            i = i - 1\n",
    "            s1rev += s1[i]\n",
    "            s2rev += '-'\n",
    "\n",
    "    #reverse arrays for proper display\n",
    "    s1align = s1rev[::-1]\n",
    "    s2align = s2rev[::-1]\n",
    "    return s1align, s2align, F, I"
   ]
  },
  {
   "cell_type": "code",
   "execution_count": null,
   "metadata": {
    "colab": {
     "base_uri": "https://localhost:8080/"
    },
    "id": "dJq1GREozdx3",
    "outputId": "d03a797f-89ee-4a1c-8a12-4b9589fb7a9b"
   },
   "outputs": [
    {
     "name": "stdout",
     "output_type": "stream",
     "text": [
      "ATTCAGGTCAAGGC-TTAGCAGTCTAAACGGATCG\n",
      "ATTC-GGTCAATGCATTAGCAGTCTAAA-GGATC-\n"
     ]
    }
   ],
   "source": [
    "s1 = 'ATTCAGGTCAAGGCTTAGCAGTCTAAACGGATCG'\n",
    "s2 = 'ATTCGGTCAATGCATTAGCAGTCTAAAGGATC'\n",
    "s1align, s2align, F, I = global_alignment(s1, s2)\n",
    "print(\"{}\\n{}\".format(s1align, s2align))"
   ]
  },
  {
   "cell_type": "code",
   "execution_count": null,
   "metadata": {
    "colab": {
     "base_uri": "https://localhost:8080/"
    },
    "id": "UmPsuvUMWIbZ",
    "outputId": "cd888e1e-1d37-4dda-8820-096a84400abc"
   },
   "outputs": [
    {
     "name": "stdout",
     "output_type": "stream",
     "text": [
      "ACTGCTA\n",
      "-CTG--A\n"
     ]
    }
   ],
   "source": [
    "s1 = 'ACTGCTA'\n",
    "s2 = 'CTGA'\n",
    "s1align, s2align, F, I = global_alignment(s1, s2)\n",
    "print(\"{}\\n{}\".format(s1align, s2align))"
   ]
  },
  {
   "cell_type": "code",
   "execution_count": null,
   "metadata": {
    "colab": {
     "base_uri": "https://localhost:8080/"
    },
    "id": "i1gnaNyqWURM",
    "outputId": "bfc3e4bb-5834-45ba-a607-a9b34a46477f"
   },
   "outputs": [
    {
     "data": {
      "text/plain": [
       "array([[  0,  -2,  -4,  -6,  -8],\n",
       "       [ -2,  -1,  -3,  -5,  -5],\n",
       "       [ -4,  -1,  -2,  -4,  -6],\n",
       "       [ -6,  -3,   0,  -2,  -4],\n",
       "       [ -8,  -5,  -2,   1,  -1],\n",
       "       [-10,  -7,  -4,  -1,   0],\n",
       "       [-12,  -9,  -6,  -3,  -2],\n",
       "       [-14, -11,  -8,  -5,  -2]], dtype=int16)"
      ]
     },
     "execution_count": 20,
     "metadata": {},
     "output_type": "execute_result"
    }
   ],
   "source": [
    "F"
   ]
  },
  {
   "cell_type": "code",
   "execution_count": null,
   "metadata": {
    "colab": {
     "base_uri": "https://localhost:8080/"
    },
    "id": "SbDf3g4dWWBS",
    "outputId": "23b8fad0-a6b3-4809-eaad-e3c5093810c9"
   },
   "outputs": [
    {
     "data": {
      "text/plain": [
       "array([['', 'h', 'h', 'h', 'h'],\n",
       "       ['v', 'd', 'd', 'd', 'd'],\n",
       "       ['v', 'd', 'd', 'd', 'd'],\n",
       "       ['v', 'v', 'd', 'h', 'h'],\n",
       "       ['v', 'v', 'v', 'd', 'h'],\n",
       "       ['v', 'd', 'v', 'v', 'd'],\n",
       "       ['v', 'v', 'd', 'v', 'd'],\n",
       "       ['v', 'v', 'v', 'v', 'd']], dtype='<U1')"
      ]
     },
     "execution_count": 21,
     "metadata": {},
     "output_type": "execute_result"
    }
   ],
   "source": [
    "I"
   ]
  },
  {
   "cell_type": "markdown",
   "metadata": {
    "id": "BA90EdoDnqM2"
   },
   "source": [
    "## Local Biomolecular Sequence Alignment\n",
    "By contrast, in _local_ alignment we concentrate on finding homologies between the most similar segment of two sequences and ignoring the rest. In that case, we wish to optimally align two _substrings_, one from each of the two original sequences, disregarding the remaining \"tails\" (ends) of the two full sequences from both sides, which otherwise would contribute negatively to the overall score. The choice of these two substrings is itself part of the local alignment optimization problem. We want the local alignment score to be as high as possible, which means that the \"tails\" of the sequences at either end would not increase the score under any alignment of their own."
   ]
  },
  {
   "cell_type": "markdown",
   "metadata": {
    "id": "FzI1d8L1nqM4"
   },
   "source": [
    "`s1 = 'CGTCTATACCAATCGACTCCATCATCATCATAG'`<br>\n",
    "`s2 = 'CGCATCATCATCATGGTAGCCTCAG'`<br>\n",
    "Locally aligning the sequences gives us:\n",
    "<pre>\n",
    "CGTCTATACCAATCGACTC<font color=\"red\"><b>CATCATCATCAT</b></font>AG\n",
    "CG<font color=\"red\"><b>CATCATCATCAT</b></font>GGTAGCCTCAG\n",
    "</pre>\n",
    "Local alignment identifies the common element: \n",
    "<b>CATCATCATCAT</b>"
   ]
  },
  {
   "cell_type": "code",
   "execution_count": null,
   "metadata": {
    "id": "SzFcOZrpmk4R"
   },
   "outputs": [],
   "source": [
    "import numpy as np\n",
    "\n",
    "def local_alignment(s1, s2, match_score=1, mismatch_score=-1, gap_score=-2):\n",
    "    \"\"\"\n",
    "    This function performs global alignment of two character strings x and y\n",
    "    \n",
    "    Arguments\n",
    "    ---------\n",
    "    s1 : str\n",
    "        First character string to be aligned\n",
    "    s2 : str\n",
    "        Second character string to be aligned\n",
    "    match_score : numeric\n",
    "        Score when the characters match\n",
    "    mismatch_score : numeric\n",
    "        Score when the characters mismatch\n",
    "    gap_score : numeric\n",
    "        Score when an indel is created\n",
    "\n",
    "    Returns\n",
    "    -------\n",
    "    s1align : str\n",
    "        Aligned first string\n",
    "    s2align : str\n",
    "        Aligned second string\n",
    "    F : np.ndarray\n",
    "        Score matrix\n",
    "    I : np.ndarray\n",
    "        Alignment operation matrix for backtrace. 'd' for diagonal; 'v' for\n",
    "        vertical; 'h' for horizontal\n",
    "    \"\"\"\n",
    "    M = len(s1)\n",
    "    N = len(s2)\n",
    "\n",
    "    F = np.zeros((M + 1, N + 1), dtype=np.int16)\n",
    "    I = np.empty_like(F, dtype=str)\n",
    "    # compare sequenses x and y, find maximum-score matrix F\n",
    "    # and the straight-line segments for traceback of optimal path in matrix I\n",
    "    for i in range(1, M + 1):\n",
    "        for j in range(1, N + 1):\n",
    "            if s1[i - 1] == s2[j - 1]:\n",
    "                w = match_score\n",
    "            else:\n",
    "                w = mismatch_score\n",
    "\n",
    "            options = [0, # restart the alignment\n",
    "                       F[i - 1,j - 1] + w, # diagonal\n",
    "                       F[i, j - 1] + gap_score, # horizontal\n",
    "                       F[i - 1, j] + gap_score] # vertical\n",
    "            F[i, j] = np.max(options)\n",
    "            I[i, j] = ['', 'd', 'h', 'v'][np.argmax(options)]\n",
    "\n",
    "    #traceback:\n",
    "    s1rev = ''\n",
    "    s2rev = ''\n",
    "    k = 0\n",
    "    # start from where the maximum score lies\n",
    "    i, j = np.unravel_index(np.argmax(F, axis=None), F.shape)\n",
    "    while I[i, j] != \"\":    #the process will stop at i=j=0 because I[0,0] = \"\"\n",
    "        k = k + 1\n",
    "        if I[i, j] == \"d\":\n",
    "            i = i - 1\n",
    "            j = j - 1\n",
    "            s1rev += s1[i]\n",
    "            s2rev += s2[j]\n",
    "        elif I[i, j] == 'h':\n",
    "            j = j - 1\n",
    "            s1rev += '-'\n",
    "            s2rev += s2[j]\n",
    "        else:\n",
    "            i = i - 1\n",
    "            s1rev += s1[i]\n",
    "            s2rev += '-'\n",
    "\n",
    "    #reverse arrays for proper display\n",
    "    s1align = s1rev[::-1]\n",
    "    s2align = s2rev[::-1]\n",
    "    return s1align, s2align, F, I"
   ]
  },
  {
   "cell_type": "code",
   "execution_count": null,
   "metadata": {
    "colab": {
     "base_uri": "https://localhost:8080/"
    },
    "id": "izRY-E63nqND",
    "outputId": "bf97bb15-0c42-4893-e572-a612ae1c7475"
   },
   "outputs": [
    {
     "name": "stdout",
     "output_type": "stream",
     "text": [
      "CATCATCATCAT\n",
      "CATCATCATCAT\n"
     ]
    }
   ],
   "source": [
    "s1 = \"CGTCTATACCAATCGACTCCATCATCATCATAG\"\n",
    "s2 = \"CGCATCATCATCATGGTAGCCTCAG\"\n",
    "s1align, s2align, F, I = local_alignment(s1, s2)\n",
    "\n",
    "print(\"{}\\n{}\".format(s1align, s2align))"
   ]
  },
  {
   "cell_type": "markdown",
   "metadata": {
    "id": "byYoMzXln88e"
   },
   "source": [
    "Now you've understand under the hood how the alignment algorithms use dynamic programming to identify best global and local alignments. Next, we'll replace all these lengthy functions with functions straight from the `biopython` library, where the alignment functions also returns all possible highest-score alignments, as well as more flexible settings of different mismatch type and scoring matrix etc."
   ]
  },
  {
   "cell_type": "markdown",
   "metadata": {
    "id": "4VWu8bdocXk7"
   },
   "source": [
    "# PART 3: Pairwise Sequence Alignment Using BioPython"
   ]
  },
  {
   "cell_type": "markdown",
   "metadata": {
    "id": "Pxn8b1ioap8j"
   },
   "source": [
    "Before you can use the `biopython` library, you will have to install it in your python environment. Since each time you open colaboratory you start with a clean slate of python environment (called a 'container'), we will have to install the biopython library each time we use colaboratory."
   ]
  },
  {
   "cell_type": "code",
   "execution_count": null,
   "metadata": {
    "colab": {
     "base_uri": "https://localhost:8080/"
    },
    "id": "YTuWslHYao68",
    "outputId": "1f4d0526-f5ee-46a5-8726-24bffb92fe5c"
   },
   "outputs": [
    {
     "name": "stdout",
     "output_type": "stream",
     "text": [
      "Looking in indexes: https://pypi.org/simple, https://us-python.pkg.dev/colab-wheels/public/simple/\n",
      "Collecting biopython\n",
      "  Downloading biopython-1.79-cp37-cp37m-manylinux_2_5_x86_64.manylinux1_x86_64.whl (2.3 MB)\n",
      "\u001b[K     |████████████████████████████████| 2.3 MB 7.4 MB/s \n",
      "\u001b[?25hRequirement already satisfied: numpy in /usr/local/lib/python3.7/dist-packages (from biopython) (1.21.6)\n",
      "Installing collected packages: biopython\n",
      "Successfully installed biopython-1.79\n"
     ]
    }
   ],
   "source": [
    "# Install prerequisite, no need to run this if you are running the notebook from\n",
    "# your laptop and you already install the packages in Anaconda \n",
    "\n",
    "!pip install biopython"
   ]
  },
  {
   "cell_type": "markdown",
   "metadata": {
    "id": "AN5btbn0bMfj"
   },
   "source": [
    "Once you installed `biopython`, you will be able to import functions from the library by doint"
   ]
  },
  {
   "cell_type": "code",
   "execution_count": null,
   "metadata": {
    "id": "Zw0rBb-7bMVP"
   },
   "outputs": [],
   "source": [
    "from Bio import Align"
   ]
  },
  {
   "cell_type": "markdown",
   "metadata": {
    "id": "RfjLiFyud-uh"
   },
   "source": [
    "In this section, we will perform global and local alignment using existing functions in BioPython, which makes a bioinformatician's life much easier than implementing algorithms from scratch. The key is to understand the parameters that by default set in the functions, so it won't be garbage-in-garbage-out.\n",
    "\n",
    "You should always checkout the [package documentation](https://biopython.org/docs/1.76/api/Bio.Align.html) for the parameters for the classes and functions you use."
   ]
  },
  {
   "cell_type": "code",
   "execution_count": null,
   "metadata": {
    "id": "sfLPCCeZnqNR"
   },
   "outputs": [],
   "source": [
    "aligner = Align.PairwiseAligner()"
   ]
  },
  {
   "cell_type": "markdown",
   "metadata": {
    "id": "SbZomorwnqNX"
   },
   "source": [
    "Set match and mismatch score according to our definition (`match = 1, mismatch = -1, gap = -2`)."
   ]
  },
  {
   "cell_type": "code",
   "execution_count": null,
   "metadata": {
    "id": "Nedlb2ONnqNa"
   },
   "outputs": [],
   "source": [
    "aligner.match = 1\n",
    "aligner.mismatch = -1\n",
    "aligner.gap_score = -2"
   ]
  },
  {
   "cell_type": "code",
   "execution_count": null,
   "metadata": {
    "colab": {
     "base_uri": "https://localhost:8080/"
    },
    "id": "WLB0m9_enqNg",
    "outputId": "b15eb5c2-26c2-4d04-a677-3280ac81d853"
   },
   "outputs": [
    {
     "name": "stdout",
     "output_type": "stream",
     "text": [
      "Pairwise sequence aligner with parameters\n",
      "  wildcard: None\n",
      "  match_score: 1.000000\n",
      "  mismatch_score: -1.000000\n",
      "  target_internal_open_gap_score: -2.000000\n",
      "  target_internal_extend_gap_score: -2.000000\n",
      "  target_left_open_gap_score: -2.000000\n",
      "  target_left_extend_gap_score: -2.000000\n",
      "  target_right_open_gap_score: -2.000000\n",
      "  target_right_extend_gap_score: -2.000000\n",
      "  query_internal_open_gap_score: -2.000000\n",
      "  query_internal_extend_gap_score: -2.000000\n",
      "  query_left_open_gap_score: -2.000000\n",
      "  query_left_extend_gap_score: -2.000000\n",
      "  query_right_open_gap_score: -2.000000\n",
      "  query_right_extend_gap_score: -2.000000\n",
      "  mode: global\n",
      "\n"
     ]
    }
   ],
   "source": [
    "print(aligner)"
   ]
  },
  {
   "cell_type": "markdown",
   "metadata": {
    "id": "X-vNkLWenqNk"
   },
   "source": [
    "As you see in the settings of the aligner, you can assign much more detailed gap scores as alignment criteria. You may adjust those scores based on the likelihood of the occurrence of such event based on your application.\n",
    "\n",
    "Let's practice using the two sequences we aligned last week."
   ]
  },
  {
   "cell_type": "code",
   "execution_count": null,
   "metadata": {
    "id": "pEqU298hdJSr"
   },
   "outputs": [],
   "source": [
    "s1 = 'ATTCAGGTCAAGGCTTAGCAGTCTAAACGGATCG'\n",
    "s2 = 'ATTCGGTCAATGCATTAGCAGTCTAAAGGATC'"
   ]
  },
  {
   "cell_type": "code",
   "execution_count": null,
   "metadata": {
    "id": "ENKIJbuXnqNm"
   },
   "outputs": [],
   "source": [
    "alignments = aligner.align(s1, s2)\n"
   ]
  },
  {
   "cell_type": "code",
   "execution_count": null,
   "metadata": {
    "colab": {
     "base_uri": "https://localhost:8080/"
    },
    "id": "1g2QsySG-gca",
    "outputId": "8842df87-4c9c-4d16-9f1d-c4ec409b4af1"
   },
   "outputs": [
    {
     "name": "stdout",
     "output_type": "stream",
     "text": [
      "ATTCAGGTCAAGGC-TTAGCAGTCTAAACGGATCG\n",
      "||||-||||||.||-|||||||||||||-|||||-\n",
      "ATTC-GGTCAATGCATTAGCAGTCTAAA-GGATC-\n",
      "\n",
      "Alignment score: 21.0\n"
     ]
    }
   ],
   "source": [
    "for aln in alignments:\n",
    "    print(aln)\n",
    "    print(\"Alignment score: {}\".format(aln.score))"
   ]
  },
  {
   "cell_type": "markdown",
   "metadata": {
    "id": "uOuRrjNQnqNr"
   },
   "source": [
    "\n",
    "By default, the alignment was done using **global alignment** criteria.\n",
    "\n",
    "You can see that the output alignment is identical to the result we got using our own program last week. \n",
    "\n",
    "To perform local alignment, we only need to change the `mode` attribute of the aligner."
   ]
  },
  {
   "cell_type": "code",
   "execution_count": null,
   "metadata": {
    "colab": {
     "base_uri": "https://localhost:8080/"
    },
    "id": "yJA0bmAknqNs",
    "outputId": "19a8b83f-62fc-44fa-ee02-9631aef4bd47"
   },
   "outputs": [
    {
     "name": "stdout",
     "output_type": "stream",
     "text": [
      "ATTCAGGTCAAGGC-TTAGCAGTCTAAACGGATCG\n",
      "||||-||||||.||-|||||||||||||-|||||\n",
      "ATTC-GGTCAATGCATTAGCAGTCTAAA-GGATC\n",
      "\n",
      "Alignment score: 23.0\n"
     ]
    }
   ],
   "source": [
    "aligner.mode = \"local\"\n",
    "alignments = aligner.align(s1, s2)\n",
    "\n",
    "for aln in alignments:\n",
    "    print(aln)\n",
    "    print(\"Alignment score: {}\".format(aln.score))"
   ]
  },
  {
   "cell_type": "markdown",
   "metadata": {
    "id": "gRdmImhjefsl"
   },
   "source": [
    "Another nice thing about the function is that it gives out all the highest score alignments:"
   ]
  },
  {
   "cell_type": "code",
   "execution_count": null,
   "metadata": {
    "colab": {
     "base_uri": "https://localhost:8080/"
    },
    "id": "2tGOoQf9eZux",
    "outputId": "62b07be1-4feb-4ce4-947e-5ab67543f7c3"
   },
   "outputs": [
    {
     "name": "stdout",
     "output_type": "stream",
     "text": [
      "CGTCTATACCAATCGACTCCATCATCATCAT-AG\n",
      "||-|-||-|-|-||-|-||-||..|-|.|.|-||\n",
      "CG-C-AT-C-A-TC-A-TC-ATGGT-AGCCTCAG\n",
      "\n",
      "Alignment score: -4.0\n",
      "CGTCTATACCAATCGACTCCATCATCATCAT-AG\n",
      "||-|-||--||-||-|-||-||..|-|.|.|-||\n",
      "CG-C-AT--CA-TC-A-TC-ATGGT-AGCCTCAG\n",
      "\n",
      "Alignment score: -4.0\n",
      "CGTCTATACCAATCGACTCCATCATCATCAT-AG\n",
      "||-|-||-|--|||-|-||-||..|-|.|.|-||\n",
      "CG-C-AT-C--ATC-A-TC-ATGGT-AGCCTCAG\n",
      "\n",
      "Alignment score: -4.0\n",
      "CGTCTATACCAATCGACTCCATCATCATCAT-AG\n",
      "||-|-||--|-|||-|-||-||..|-|.|.|-||\n",
      "CG-C-AT--C-ATC-A-TC-ATGGT-AGCCTCAG\n",
      "\n",
      "Alignment score: -4.0\n",
      "CGTCTATACCAATCGACTCCATCATCATCAT-AG\n",
      "||-|-||-|-|-||-|-|-|||..|-|.|.|-||\n",
      "CG-C-AT-C-A-TC-A-T-CATGGT-AGCCTCAG\n",
      "\n",
      "Alignment score: -4.0\n",
      "CGTCTATACCAATCGACTCCATCATCATCAT-AG\n",
      "||-|-||--||-||-|-|-|||..|-|.|.|-||\n",
      "CG-C-AT--CA-TC-A-T-CATGGT-AGCCTCAG\n",
      "\n",
      "Alignment score: -4.0\n",
      "CGTCTATACCAATCGACTCCATCATCATCAT-AG\n",
      "||-|-||-|--|||-|-|-|||..|-|.|.|-||\n",
      "CG-C-AT-C--ATC-A-T-CATGGT-AGCCTCAG\n",
      "\n",
      "Alignment score: -4.0\n",
      "CGTCTATACCAATCGACTCCATCATCATCAT-AG\n",
      "||-|-||--|-|||-|-|-|||..|-|.|.|-||\n",
      "CG-C-AT--C-ATC-A-T-CATGGT-AGCCTCAG\n",
      "\n",
      "Alignment score: -4.0\n"
     ]
    }
   ],
   "source": [
    "s1 = \"CGTCTATACCAATCGACTCCATCATCATCATAG\"\n",
    "s2 = \"CGCATCATCATCATGGTAGCCTCAG\"\n",
    "\n",
    "aligner.mode = \"global\"\n",
    "alignments = aligner.align(s1, s2)\n",
    "\n",
    "for aln in alignments:\n",
    "    print(aln)\n",
    "    print(\"Alignment score: {}\".format(aln.score))"
   ]
  },
  {
   "cell_type": "markdown",
   "metadata": {
    "id": "NF4tD8zweyzY"
   },
   "source": [
    "As you can see. The aligner gives 8 global alignment results with the same score."
   ]
  }
 ],
 "metadata": {
  "colab": {
   "collapsed_sections": [],
   "provenance": []
  },
  "kernelspec": {
   "display_name": "Python 3 (ipykernel)",
   "language": "python",
   "name": "python3"
  },
  "language_info": {
   "codemirror_mode": {
    "name": "ipython",
    "version": 3
   },
   "file_extension": ".py",
   "mimetype": "text/x-python",
   "name": "python",
   "nbconvert_exporter": "python",
   "pygments_lexer": "ipython3",
   "version": "3.9.12"
  }
 },
 "nbformat": 4,
 "nbformat_minor": 1
}
