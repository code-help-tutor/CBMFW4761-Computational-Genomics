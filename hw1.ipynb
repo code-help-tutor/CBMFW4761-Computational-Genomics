{
  "cells": [
    {
      "cell_type": "code",
      "execution_count": null,
      "metadata": {
        "id": "jbbfZOQ4LQNh"
      },
      "outputs": [],
      "source": [
        "#@title Install prerequisite this will take a while\n",
        "# Install prerequisite, no need to run this if you are running the notebook from\n",
        "# your laptop and you already install the packages in Anaconda \n",
        "\n",
        "!pip install biopython\n",
        "!pip install ipytree\n",
        "!pip install scikit-allel\n",
        "!pip install zarr\n",
        "\n",
        "# install mafft commandline\n",
        "!wget https://mafft.cbrc.jp/alignment/software/mafft_7.471-1_amd64.deb\n",
        "!sudo dpkg -i mafft_7.471-1_amd64.deb"
      ]
    },
    {
      "cell_type": "code",
      "execution_count": null,
      "metadata": {
        "colab": {
          "base_uri": "https://localhost:8080/"
        },
        "id": "4_mQlXl4BnDA",
        "outputId": "1db9f6c7-e928-4dcc-d986-de0c02a9f582"
      },
      "outputs": [
        {
          "name": "stdout",
          "output_type": "stream",
          "text": [
            "Mounted at /content/drive\n"
          ]
        }
      ],
      "source": [
        "#@title Mount Google Drive (You don't need to run this if you are running notebooks on your laptop)\n",
        "\n",
        "from google.colab import drive\n",
        "\n",
        "# The following command will prompt a URL for you to click and obtain the\n",
        "# authorization code\n",
        "\n",
        "drive.mount(\"/content/drive\")\n"
      ]
    },
    {
      "cell_type": "code",
      "execution_count": null,
      "metadata": {
        "id": "QQD4mkx-CCmA"
      },
      "outputs": [],
      "source": [
        "# Set up data folder\n",
        "from pathlib import Path\n",
        "\n",
        "# Change this to where you put your hw1 files\n",
        "DATA = Path(\"\")"
      ]
    },
    {
      "cell_type": "markdown",
      "metadata": {
        "id": "WVpMokdnR08U"
      },
      "source": [
        "## Problem 1: SARS-CoV-2 Spike Protein Multiple Alignment\n",
        "\n",
        "\n"
      ]
    },
    {
      "cell_type": "markdown",
      "metadata": {
        "id": "sCIkTJEDlwnN"
      },
      "source": [
        "Severe acute respiratory syndrome coronavirus 2, or SARS-CoV-2, is responsible for the COVID-19 pandemic. The outbreak of the COVID-19 has brought together the global genomic research community to focus on understanding the virus. However, as scientists curate the virus genome and develop vaccines at an unprecedented speed, evidence of the SARS-CoV-2 evolution has been characterized by the emergence of sets of mutations that could potentially increase transmissibility or cause more severe disease. The Center of Disease Control and Prevention (CDC) has published a [SARS-CoV-2 Variant Classifications and Definitions](https://www.cdc.gov/coronavirus/2019-ncov/variants/variant-info.html) that categorizes the viral variants into three categories:\n",
        "* __Variants being monitored (VBM)__: Variants designated as VBM include those where data indicates there is a potential or clear impact on approved or authorized medical countermeasures or that have been associated with more severe disease or increased transmission but are no longer detected, or are circulating at very low levels, in the United States. These variants do not pose a significant and imminent risk to public health in the United States.\n",
        "* __Variant of Interest (VOI)__: A variant with specific genetic markers that have been associated with changes to receptor binding, reduced neutralization by antibodies generated against previous infection or vaccination, reduced efficacy of treatments, potential diagnostic impact, or predicted increase in transmissibility or disease severity, _e.g._ Eta, Iota.\n",
        "* __Variant of Concern (VOC)__: A variant for which there is evidence of an increase in transmissibility, more severe disease (e.g., increased hospitalizations or deaths), significant reduction in neutralization by antibodies generated during previous infection or vaccination, reduced effectiveness of treatments or vaccines, or diagnostic detection failures, _e.g._ Alpha, Beta, Delta.\n",
        "* __Variant of High Consequence (VOHC)__: A variant of high consequence has clear evidence that prevention measures or medical countermeasures (MCMs) have significantly reduced effectiveness relative to previously circulating variants. Currently no variant has been categorized into this class.\n",
        "\n",
        "In this exercise, we will perform multiple protein alignment on the [spike protein](https://www.ncbi.nlm.nih.gov/gene/43740568) of different variants of SARS-CoV-2. The S surface glycoprotein is found on the outside of the virus particle and gives coronavirus viruses their crown-like appearance. It mediates attachment of the virus particle and entry into the host cell. As a result, S protein is an important target for vaccine development, antibody therapies and diagnostic antigen-based tests."
      ]
    },
    {
      "cell_type": "markdown",
      "metadata": {
        "id": "1meDgkP8H9hS"
      },
      "source": [
        "\n",
        "### Load spike protein sequences\n",
        "\n",
        "You can download all the spike protein sequences that have ever been submitted to NCBI as a data package from the [NCBI Datasets](https://www.ncbi.nlm.nih.gov/datasets/coronavirus/proteins/) website. We will be focusing on the following sequences for our analysis."
      ]
    },
    {
      "cell_type": "code",
      "execution_count": null,
      "metadata": {
        "id": "8LhYTBO_i9su"
      },
      "outputs": [],
      "source": [
        "seq_id_of_interest = [\n",
        "    'QRN78347.1',\n",
        "    'QRX39425.1',\n",
        "    'QUD52764.1',\n",
        "    'QWE88920.1',\n",
        "    'UFO69279.1',\n",
        "    'UOZ45804.1',\n",
        "    'UTM82166.1',\n",
        "    'YP_009724390.1',\n",
        "]"
      ]
    },
    {
      "cell_type": "markdown",
      "metadata": {
        "id": "32b3h7g1gLi1"
      },
      "source": [
        "Note the `YP_009724390.1` sequence is what we call a **reference sequence**. It is the base sequence we used to refer to all the mutations in the genome. For example, if we say a new virus genome has an `N501Y` mutation in its spike protein, it means that the virus has a `Y`(Tyrosine) at its 501st amino acid instead of an `N`(Asparagine), compared to the reference genome sequence.\n",
        "\n",
        "As your first task, fetch these 8 sequences from NCBI as we did in the class, save them into a fasta file so we can perform multiple sequence alignment later."
      ]
    },
    {
      "cell_type": "code",
      "execution_count": null,
      "metadata": {
        "id": "azXaKrgdDe9g"
      },
      "outputs": [],
      "source": [
        "#==============================================================================\n",
        "# Write your code here\n",
        "# Fetch the 8 sequences of interest of S protein and save them in a fasta file\n",
        "#=============================================================================="
      ]
    },
    {
      "cell_type": "markdown",
      "metadata": {
        "id": "Yz3-kBrdFiXS"
      },
      "source": [
        "### Answer the following questions "
      ]
    },
    {
      "cell_type": "markdown",
      "metadata": {
        "id": "QFrJ2sflKmtZ"
      },
      "source": [
        "#### **1.1. When we look into the sequence information of SARS-CoV-2 on [NCBI](https://www.ncbi.nlm.nih.gov/nuccore/NC_045512), you'll notice that its first line is:**\n",
        "\n",
        "```\n",
        "LOCUS       NC_045512              29903 bp ss-RNA     linear   VRL 18-JUL-2020\n",
        "```\n",
        "\n",
        "**What does the `ss-RNA` mean? Feel free to look it up on the internet and share your understanding. However, remember to include your information source.**\n",
        "\n",
        "\n"
      ]
    },
    {
      "cell_type": "markdown",
      "metadata": {
        "id": "Br753zi45pz1"
      },
      "source": [
        "### Perform multiple sequence alignment"
      ]
    },
    {
      "cell_type": "markdown",
      "metadata": {
        "id": "H0WE0PscuRlE"
      },
      "source": [
        "Now we have the sequences, let's run multiple sequence alignment. Recent publications have been using [`MAFFT`](https://mafft.cbrc.jp/alignment/server/) for aligning SARS-CoV-2 genome sequences. Here we will use `MAFFT` to perform multiple sequence alignment on S protein sequences. Similar to other multiple alignment algorithms, there is a `biopython` commandline wrapper for us to run easily: [`MafftCommandline`](https://biopython.org/docs/1.75/api/Bio.Align.Applications.html#Bio.Align.Applications.MafftCommandline) under `Bio.Align.Applications`. Refer to the documentation in biopython. "
      ]
    },
    {
      "cell_type": "code",
      "execution_count": null,
      "metadata": {
        "id": "KccnGHi1DrTP"
      },
      "outputs": [],
      "source": [
        "#============================================================================\n",
        "# Write your code here\n",
        "# Perform multiple sequence alignment using MafftCommandline class and write \n",
        "# the alignment result to another fasta file\n",
        "#============================================================================"
      ]
    },
    {
      "cell_type": "markdown",
      "metadata": {
        "id": "whIp2JLKpTRB"
      },
      "source": [
        "With the alignment done, we can construct a [phylogenetic tree](https://en.wikipedia.org/wiki/Phylogenetic_tree) to quantify and visualize the genomic evolution of the virus taken from different locations. You can follow the document of [biopython's Phylo module](https://biopython.org/wiki/Phylo). \n",
        "\n",
        "First you will need to use the [`DistanceCalculator`](https://biopython.org/docs/1.75/api/Bio.Phylo.TreeConstruction.html#Bio.Phylo.TreeConstruction.DistanceCalculator) to generate distance matrix. As `MAFFT` by default uses `BLOSUM62` as the scoring matrix, you will need to set the `model` parameter of the `DistanceCalculator` class to `blosum62`.\n",
        "\n",
        "Once you generate the distance matrix using `DistanceCalculator`, we will build the phylogenetic tree using the [UPGMA](https://en.wikipedia.org/wiki/UPGMA) method, which can be called through the [`DistanceTreeConstructor`](https://biopython.org/docs/1.75/api/Bio.Phylo.TreeConstruction.html#Bio.Phylo.TreeConstruction.DistanceTreeConstructor) class. Draw your phylogenetic tree to visualize your result like we did in the class.\n"
      ]
    },
    {
      "cell_type": "code",
      "execution_count": null,
      "metadata": {
        "id": "qkJtJf11o1RD"
      },
      "outputs": [],
      "source": [
        "#============================================================================\n",
        "# Write your code here\n",
        "# Generate distance matrix using DistanceCalculator with `blosum62` as the\n",
        "# scoring matrix, then construct a phylogenetic tree using\n",
        "# DistanceTreeConstructor using UPGMA method\n",
        "#============================================================================"
      ]
    },
    {
      "cell_type": "code",
      "execution_count": null,
      "metadata": {
        "id": "9M-WWQBRDtAb"
      },
      "outputs": [],
      "source": [
        "#============================================================================\n",
        "# Write your code here\n",
        "# Draw your phylogenetic tree\n",
        "#============================================================================"
      ]
    },
    {
      "cell_type": "markdown",
      "metadata": {
        "id": "7EgwsUVA8RRU"
      },
      "source": [
        "### Answer the following questions "
      ]
    },
    {
      "cell_type": "markdown",
      "metadata": {
        "id": "aN45m57kEseh"
      },
      "source": [
        "#### **1.2. From the phylogenetic tree you created on the sequences of interest, if we use a branch length cutoff of 0.005, how many clusters do you observe? list the sequence IDs in each cluster**\n",
        "\n"
      ]
    },
    {
      "cell_type": "markdown",
      "metadata": {
        "id": "6byPk73C8T63"
      },
      "source": [
        "### Assign variant sequence identities"
      ]
    },
    {
      "cell_type": "markdown",
      "metadata": {
        "id": "hjl5-MhB8Y3o"
      },
      "source": [
        "Based on the alignment, using the reference sequence `YP_009724390.1` as the reference sequence, we can identify all mutations in spike proteins in the other 7 sequences. This can be done similarly to what we did for influenza hemagglutinin sequences in class.\n",
        "\n",
        "Once you identify the mutations for each sequence in the spike protein, you can assign their variant identity (e.g. alpha, delta, omicron) based on the signature given in the following plot from ![Viralzon](https://viralzone.expasy.org/9556):\n",
        "\n",
        "![](https://viralzone.expasy.org/resources/Variants_graph.svg)"
      ]
    },
    {
      "cell_type": "code",
      "execution_count": null,
      "metadata": {
        "id": "BO3U8fHoD2na"
      },
      "outputs": [],
      "source": [
        "#============================================================================\n",
        "# Write your code here\n",
        "# Identify mutations in each sequence compared to YP_009724390.1, and assign\n",
        "# variant identity based on the figure in viralzone above\n",
        "#============================================================================\n"
      ]
    },
    {
      "cell_type": "markdown",
      "metadata": {
        "id": "NSZBy99Tp-zi"
      },
      "source": [
        "### Answer the following questions "
      ]
    },
    {
      "cell_type": "markdown",
      "metadata": {
        "id": "80OTtaL-pmF9"
      },
      "source": [
        "#### **1.3. From the mutations in each sequence and the figure from Viralzone, determine which variant each sequence belongs to. Note you only need to provide on a high level of variant (e.g. alpha, beta, omicron), no need for subvariant like BA2.5. Also you might not find the exact set of variants as described in the figure, but for each sequence you should be able to identify some unique mutations that only exist in one variant but not the others**\n",
        "\n"
      ]
    },
    {
      "cell_type": "markdown",
      "metadata": {
        "id": "q1EydnmoR09r"
      },
      "source": [
        "## Problem 2: Prostate Cancer Risk Screening Using Germline Variant Data"
      ]
    },
    {
      "cell_type": "markdown",
      "metadata": {
        "id": "tELzE7a-5u2h"
      },
      "source": [
        "One of the applications of genetic variant calling is to identify possibly disease-causing variant. [ClinVar](https://www.ncbi.nlm.nih.gov/clinvar/) is a well-curated clinical variants database for pathogenic disease variant annotation.\n",
        "\n",
        "In this exercise, we will perform a retrospective screening for prostate cancer by identifying pathogenic germline variants that are likely to lead to prostate cancer in the 1000 genome project subjects.\n",
        "\n",
        "\n",
        "Note we are using variant mapped to human reference genome version GRCh37 since the 1000 genome VCF file we have was also mapped to the same version. We can load the clinvar vcf file using `allel.read_vcf` and interact with it like we did in the class. You can also convert it to `zarr`. However, given the small size of the file it does not seem necessary."
      ]
    },
    {
      "cell_type": "code",
      "execution_count": null,
      "metadata": {
        "id": "BCmY2cu5EBEh"
      },
      "outputs": [],
      "source": [
        "# change the filename parameter to where you download the vcf.gz file\n",
        "clinvar_file = \"clinvar_20220910_grch37.vcf.gz\"\n",
        "\n",
        "#==========================\n",
        "# Your code here\n",
        "# Load the clinvar vcf file\n",
        "#=========================="
      ]
    },
    {
      "cell_type": "markdown",
      "metadata": {
        "id": "gifnMfDavMpe"
      },
      "source": [
        "Now you've loaded clinvar, first we would like to find all the variants that are annotated by clinvar as `Pathogenic` to prostate cancer in chromosome X. Note we restrict the scope down to chromosome X for simplicity, in real life one would search for variants in all chromosomes.\n",
        "\n",
        "To perform the search, you can find pathogenicity in the field `variants/CLNSIG`, and the disease name in `variants/CLNDN`. Put extra care into the fact that `CLNDN` field might contain more than one disease, _e.g._ it might be something like `disease1|disease2` while one of the two diseases could be prostate cancer. Also prostate cancer might be annotated as either `Prostate_cancer` or `Malignant_tumor_of_prostate`. You should try to be inclusive first and check out all the possible names of prostate cancer and revise your query."
      ]
    },
    {
      "cell_type": "code",
      "execution_count": null,
      "metadata": {
        "id": "JJ4GgbxJEKgp"
      },
      "outputs": [],
      "source": [
        "#===============================================================================\n",
        "# Your code here\n",
        "# Filter the clinvar variants to identify pathogenic variants to prostate cancer\n",
        "# in chromosome X\n",
        "#==============================================================================="
      ]
    },
    {
      "cell_type": "markdown",
      "metadata": {
        "id": "XNN-QC029jWr"
      },
      "source": [
        "### Answer the following questions "
      ]
    },
    {
      "cell_type": "markdown",
      "metadata": {
        "id": "BAB_lDoiERIK"
      },
      "source": [
        "#### **2.1. How many pathogenic variants to prostate cancer do you find in chromosome X? Which genes do these variants belong to?**"
      ]
    },
    {
      "cell_type": "markdown",
      "metadata": {
        "id": "XdTlX3p7Efa6"
      },
      "source": [
        "#### **2.2. Can you find one example literature connecting the genes you found in 2.1. to prostate cancer? Briefly explain the genes' function.**"
      ]
    },
    {
      "cell_type": "markdown",
      "metadata": {
        "id": "yVRwSv5S_QzZ"
      },
      "source": [
        "### Identifying subjects carrying prostate cancer pathogenic variants"
      ]
    },
    {
      "cell_type": "markdown",
      "metadata": {
        "id": "woO3aV4IADh4"
      },
      "source": [
        "Now we've identified the prostate cancer pathogenic variants, we will perform the screening in the genetic data of 1000 genome project subjects. First given the variants of interest we identified in 2.1., let's try to find how many of them we also observed in 1000 genome project. Basically if a variant does not exist in the VCF file, it means the variant was not observed in the cohort."
      ]
    },
    {
      "cell_type": "markdown",
      "metadata": {
        "id": "lyyC_phIA2bn"
      },
      "source": [
        "We'll start with the 1000 genome VCF file. Load the VCF file or the zarr file you created in class and find how many variants of interest were observed in 1000 genome."
      ]
    },
    {
      "cell_type": "code",
      "execution_count": null,
      "metadata": {
        "id": "FWUzDq2xEh1o"
      },
      "outputs": [],
      "source": [
        "#============================================================================\n",
        "# Your code here\n",
        "# Read the VCF file using allel and identify how many variants of interest\n",
        "# were observed in 1000 genome\n",
        "#============================================================================"
      ]
    },
    {
      "cell_type": "markdown",
      "metadata": {
        "id": "OkYAe7pUL6aw"
      },
      "source": [
        "### Answer the following questions "
      ]
    },
    {
      "cell_type": "markdown",
      "metadata": {
        "id": "DsPTVlfrEuMT"
      },
      "source": [
        "#### **2.3. How many pathogenic variants to prostate cancer you found in 2.1. were observed in 1000 genome project?**"
      ]
    },
    {
      "cell_type": "markdown",
      "metadata": {
        "id": "vgfvRAOmL4tQ"
      },
      "source": [
        "Now we know which variants were observed in 1000 genome project, we just need to extract subjects with a non-homozygous-reference genotype to identify subjects carrying pathogenic variants of prostate cancer, namely identify in the genotype array of the VCF file subjects with genotypes that's not `0/0` (for female) or `0/.` (for male)."
      ]
    },
    {
      "cell_type": "code",
      "execution_count": null,
      "metadata": {
        "id": "k1o6VV1aEzyv"
      },
      "outputs": [],
      "source": [
        "#==============================================================================\n",
        "# Your code here\n",
        "# Find 1000 genome project subjects that have non-homozygous-reference genotypes\n",
        "# at prostate cancer pathogenic variant locations\n",
        "#=============================================================================="
      ]
    },
    {
      "cell_type": "markdown",
      "metadata": {
        "id": "Yw9kOBg4Z0BE"
      },
      "source": [
        "### Answer the following questions"
      ]
    },
    {
      "cell_type": "markdown",
      "metadata": {
        "id": "260gSsxYZ3OT"
      },
      "source": [
        "#### **2.4. How many subjects have the pathogenic variants of prostate cancer?**"
      ]
    },
    {
      "cell_type": "markdown",
      "metadata": {
        "id": "sWRVBiI-SKVY"
      },
      "source": [
        "Finally, for these subjects, create a dataframe, where each row is a non-reference variant with the following columns:\n",
        "\n",
        "1. `subject_id`: 1000 genome ID\n",
        "2. `gender`: gender of the subject as in the `Sex` column in the `1kgn_phase3_population.csv` file we used in the class\n",
        "3. `super_population_code`: the `Superpopultaion Code` of the subject as in the `1kgn_phase3_population.csv` file we used in the class\n",
        "4. `variant_of_interest`: which variant of interest the subject has. You can just use the `Location` format as in the VEP file\n",
        "5. `genotype`: the genotype of the variant (_i.e._ `0/1`, `1/1` or `1/.`)\n",
        "\n",
        "You should merge the genotype information to the [`1kgn_phase3_population.csv`](https://drive.google.com/file/d/1X1jbq2u-qUfcDvPf3U9SDQxRFBDtNpes/view?usp=sharing) we used in class."
      ]
    },
    {
      "cell_type": "code",
      "execution_count": null,
      "metadata": {
        "id": "yhbHNlkDTNZW"
      },
      "outputs": [],
      "source": [
        "#=============================================================================\n",
        "# Your code here\n",
        "# Create a dataframe as described above\n",
        "#============================================================================="
      ]
    },
    {
      "cell_type": "markdown",
      "metadata": {
        "id": "pl8SPQOEFCRh"
      },
      "source": [
        "### Answer the following questions"
      ]
    },
    {
      "cell_type": "markdown",
      "metadata": {
        "id": "W1hI0QjhE4QJ"
      },
      "source": [
        "#### **2.5. How many male subjects have prostate pathogenic variants? What superpopulations do these male subjects belong to?**\n"
      ]
    },
    {
      "cell_type": "markdown",
      "metadata": {
        "id": "e2o6qACHS0Q8"
      },
      "source": [
        "## Problem 3: mutation load\n"
      ]
    },
    {
      "cell_type": "markdown",
      "metadata": {
        "id": "BHWsrDIAFKHP"
      },
      "source": [
        "\n",
        "We mentioned that DNA has a [mismatch repair (MMR)](https://en.wikipedia.org/wiki/DNA_mismatch_repair)  mechanism to fix errors that occur in DNA during replication in addition to proofreading. In this problem we will investigate how the damages in the MMR pathway would affect the number of mutations in cancer. The number of mutations in sample is called **mutation load**.\n",
        "\n",
        "First following what we did in the lecture note, load the MAF files of the TCGA breast cancer data set, which you can download here:\n",
        "\n",
        "\n",
        "Remember to **filter the mutations leaving only the ones passing the filter.**"
      ]
    },
    {
      "cell_type": "code",
      "execution_count": null,
      "metadata": {
        "id": "7VfXnwz5FB9L"
      },
      "outputs": [],
      "source": [
        "#=========================================================\n",
        "# Your code here to load the MAF file and filter mutations\n",
        "#========================================================="
      ]
    },
    {
      "cell_type": "markdown",
      "metadata": {
        "id": "Vg_yBtPyS0RG"
      },
      "source": [
        "Now define an MMR gene set. Using the MAF file, identify which patients have at least one mutation with MODERATE / HIGH impact in the 11 MMR genes as defined in the [Cortes-Ciriano _et al_.) paper](https://www.ncbi.nlm.nih.gov/pmc/articles/PMC5467167/figure/f1/).\n",
        "\n",
        "`MLH1, MLH3, MSH2, MSH3, MSH6, PMS1, PMS2, POLE, POLD1, PRKDC, APC`\n",
        "\n",
        "(for simplicity we'll skip the BRAF mutation)"
      ]
    },
    {
      "cell_type": "code",
      "execution_count": null,
      "metadata": {
        "id": "FgXdQ429S0RJ"
      },
      "outputs": [],
      "source": [
        "#==============================\n",
        "# Define your MMR gene set here\n",
        "#==============================\n",
        "\n",
        "mmr = {\"MLH1\", \"MLH3\", \"MSH2\", \"MSH3\", \"MSH6\", \"PMS1\", \"PMS2\", \"POLE\", \"POLD1\",\n",
        "       \"PRKDC\", \"APC\"}"
      ]
    },
    {
      "cell_type": "markdown",
      "metadata": {
        "id": "CY4JUbluS0RM"
      },
      "source": [
        "Now we can calculate the mutation load of each sample, and also identify samples with mutations in their MMR genes.\n",
        "\n",
        "First, calculate the mutation load of each sample by aggregating the number of mutations (_i.e._ number of rows) in individual sample. _Hint_: use the `groupby` function in `pandas.DataFrame`"
      ]
    },
    {
      "cell_type": "code",
      "execution_count": null,
      "metadata": {
        "id": "hGlauKQXFVlu"
      },
      "outputs": [],
      "source": [
        "#===================================\n",
        "# Your code here\n",
        "# get number of mutations per sample\n",
        "#==================================="
      ]
    },
    {
      "cell_type": "markdown",
      "metadata": {
        "id": "iQpoUGXhS0RR"
      },
      "source": [
        "Let's identify the samples who have mutations in their MMR genes."
      ]
    },
    {
      "cell_type": "code",
      "execution_count": null,
      "metadata": {
        "id": "85iy2Nj8FbkO"
      },
      "outputs": [],
      "source": [
        "#===========================================================\n",
        "# Your code here\n",
        "# identify the samples that have mutation in their MMR genes\n",
        "#==========================================================="
      ]
    },
    {
      "cell_type": "markdown",
      "metadata": {
        "id": "0CAr0cyXS0RX"
      },
      "source": [
        "We can then do a boxplot depicting the distribution of mutation load corresponding to whether the sample has mutation in their MMR gene. Because of the distribution of mutation load is highly distorted, you might want to set the y-axis to log-scale. But **remember to align the IDs of the two variables you just calculated**.\n",
        "\n",
        "One way to create boxplots is to use the [seaborn.boxplot](https://seaborn.pydata.org/generated/seaborn.boxplot.html) function. Refer to its document fore more information."
      ]
    },
    {
      "cell_type": "code",
      "execution_count": null,
      "metadata": {
        "id": "vAwaD1BIFgaE"
      },
      "outputs": [],
      "source": [
        "#======================================\n",
        "# Your code here\n",
        "# align the sample IDs and do a boxplot\n",
        "#======================================"
      ]
    },
    {
      "cell_type": "markdown",
      "metadata": {
        "id": "N-KsfXY8S0Rh"
      },
      "source": [
        "To further confirm the observation is statistically significant, we can perform a [Mann-Whitney U Test](https://en.wikipedia.org/wiki/Mann%E2%80%93Whitney_U_test) for the mutation_load and obtain the [_P_ value](https://en.wikipedia.org/wiki/P-value) of the significance of the difference. Mann-Whtney U test is a non-parametric, rank-based test hence it is more robust to the distribution of the data. Given that the distribution of mutation load generally has a long tail and given our large sample size applying non-parametric test is appropriate here.\n",
        "\n",
        "We can use the package `scipy.stats.mannwhitneyu` (see [here](https://docs.scipy.org/doc/scipy/reference/generated/scipy.stats.mannwhitneyu.html) for details.)"
      ]
    },
    {
      "cell_type": "code",
      "execution_count": null,
      "metadata": {
        "id": "x2FVHC8TFl9y"
      },
      "outputs": [],
      "source": [
        "#==================================================================================\n",
        "# Your code here\n",
        "# perform t test between the mutation numbers in samples with mutation in MMR genes\n",
        "# versus mutation numbers in samples with no mutation in MMR genes\n",
        "#=================================================================================="
      ]
    },
    {
      "cell_type": "markdown",
      "metadata": {
        "id": "eBXqMoV9RIBf"
      },
      "source": [
        "### Answer the following questions"
      ]
    },
    {
      "cell_type": "markdown",
      "metadata": {
        "id": "C7a6zJP_RVJV"
      },
      "source": [
        "#### **3.1. Do you see a significant P value (P value < 0.05)? Describe in your own word the association between mutations in MMR genes and mutation load**"
      ]
    },
    {
      "cell_type": "markdown",
      "metadata": {
        "id": "BCNUZiX4RIBf"
      },
      "source": [
        "#### **3.2. Provide your hypothesis why we observe the difference in mutation loads between samples with mutations in MMR genes and samples without mutation in MMR genes.**"
      ]
    },
    {
      "cell_type": "code",
      "execution_count": null,
      "metadata": {
        "id": "6c6UjJfDFqzK"
      },
      "outputs": [],
      "source": []
    }
  ],
  "metadata": {
    "colab": {
      "collapsed_sections": [],
      "provenance": []
    },
    "kernelspec": {
      "display_name": "Python 3",
      "name": "python3"
    },
    "language_info": {
      "name": "python"
    }
  },
  "nbformat": 4,
  "nbformat_minor": 0
}
